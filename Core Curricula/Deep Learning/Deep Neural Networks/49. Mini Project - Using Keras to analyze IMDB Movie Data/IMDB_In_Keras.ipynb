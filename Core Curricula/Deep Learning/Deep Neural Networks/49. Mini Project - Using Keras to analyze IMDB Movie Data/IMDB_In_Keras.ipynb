{
 "cells": [
  {
   "cell_type": "markdown",
   "metadata": {},
   "source": [
    "# Analyzing IMDB Data in Keras"
   ]
  },
  {
   "cell_type": "code",
   "execution_count": 1,
   "metadata": {},
   "outputs": [
    {
     "name": "stderr",
     "output_type": "stream",
     "text": [
      "Using TensorFlow backend.\n"
     ]
    }
   ],
   "source": [
    "# Imports\n",
    "import numpy as np\n",
    "import keras\n",
    "from keras.datasets import imdb\n",
    "from keras.models import Sequential\n",
    "from keras.layers import Dense, Dropout, Activation\n",
    "from keras.preprocessing.text import Tokenizer\n",
    "import matplotlib.pyplot as plt\n",
    "%matplotlib inline\n",
    "\n",
    "np.random.seed(42)"
   ]
  },
  {
   "cell_type": "markdown",
   "metadata": {},
   "source": [
    "## 1. Loading the data\n",
    "This dataset comes preloaded with Keras, so one simple command will get us training and testing data. There is a parameter for how many words we want to look at. We've set it at 1000, but feel free to experiment."
   ]
  },
  {
   "cell_type": "code",
   "execution_count": 2,
   "metadata": {},
   "outputs": [
    {
     "name": "stdout",
     "output_type": "stream",
     "text": [
      "(25000,)\n",
      "(25000,)\n"
     ]
    }
   ],
   "source": [
    "# Loading the data (it's preloaded in Keras)\n",
    "(x_train, y_train), (x_test, y_test) = imdb.load_data(num_words=1000)\n",
    "\n",
    "print(x_train.shape)\n",
    "print(x_test.shape)"
   ]
  },
  {
   "cell_type": "markdown",
   "metadata": {},
   "source": [
    "## 2. Examining the data\n",
    "Notice that the data has been already pre-processed, where all the words have numbers, and the reviews come in as a vector with the words that the review contains. For example, if the word 'the' is the first one in our dictionary, and a review contains the word 'the', then there is a 1 in the corresponding vector.\n",
    "\n",
    "The output comes as a vector of 1's and 0's, where 1 is a positive sentiment for the review, and 0 is negative."
   ]
  },
  {
   "cell_type": "code",
   "execution_count": 3,
   "metadata": {},
   "outputs": [
    {
     "name": "stdout",
     "output_type": "stream",
     "text": [
      "[1, 14, 22, 16, 43, 530, 973, 2, 2, 65, 458, 2, 66, 2, 4, 173, 36, 256, 5, 25, 100, 43, 838, 112, 50, 670, 2, 9, 35, 480, 284, 5, 150, 4, 172, 112, 167, 2, 336, 385, 39, 4, 172, 2, 2, 17, 546, 38, 13, 447, 4, 192, 50, 16, 6, 147, 2, 19, 14, 22, 4, 2, 2, 469, 4, 22, 71, 87, 12, 16, 43, 530, 38, 76, 15, 13, 2, 4, 22, 17, 515, 17, 12, 16, 626, 18, 2, 5, 62, 386, 12, 8, 316, 8, 106, 5, 4, 2, 2, 16, 480, 66, 2, 33, 4, 130, 12, 16, 38, 619, 5, 25, 124, 51, 36, 135, 48, 25, 2, 33, 6, 22, 12, 215, 28, 77, 52, 5, 14, 407, 16, 82, 2, 8, 4, 107, 117, 2, 15, 256, 4, 2, 7, 2, 5, 723, 36, 71, 43, 530, 476, 26, 400, 317, 46, 7, 4, 2, 2, 13, 104, 88, 4, 381, 15, 297, 98, 32, 2, 56, 26, 141, 6, 194, 2, 18, 4, 226, 22, 21, 134, 476, 26, 480, 5, 144, 30, 2, 18, 51, 36, 28, 224, 92, 25, 104, 4, 226, 65, 16, 38, 2, 88, 12, 16, 283, 5, 16, 2, 113, 103, 32, 15, 16, 2, 19, 178, 32]\n",
      "1\n"
     ]
    }
   ],
   "source": [
    "print(x_train[0])\n",
    "print(y_train[0])"
   ]
  },
  {
   "cell_type": "markdown",
   "metadata": {},
   "source": [
    "## 3. One-hot encoding the output\n",
    "Here, we'll turn the input vectors into (0,1)-vectors. For example, if the pre-processed vector contains the number 14, then in the processed vector, the 14th entry will be 1."
   ]
  },
  {
   "cell_type": "code",
   "execution_count": 4,
   "metadata": {},
   "outputs": [
    {
     "name": "stdout",
     "output_type": "stream",
     "text": [
      "[ 0.  1.  1.  0.  1.  1.  1.  1.  1.  1.  0.  0.  1.  1.  1.  1.  1.  1.\n",
      "  1.  1.  0.  1.  1.  0.  0.  1.  1.  0.  1.  0.  1.  0.  1.  1.  0.  1.\n",
      "  1.  0.  1.  1.  0.  0.  0.  1.  0.  0.  1.  0.  1.  0.  1.  1.  1.  0.\n",
      "  0.  0.  1.  0.  0.  0.  0.  0.  1.  0.  0.  1.  1.  0.  0.  0.  0.  1.\n",
      "  0.  0.  0.  0.  1.  1.  0.  0.  0.  0.  1.  0.  0.  0.  0.  1.  1.  0.\n",
      "  0.  0.  1.  0.  0.  0.  0.  0.  1.  0.  1.  0.  0.  1.  1.  0.  1.  1.\n",
      "  0.  0.  0.  0.  1.  1.  0.  0.  0.  1.  0.  0.  0.  0.  0.  0.  1.  0.\n",
      "  0.  0.  0.  0.  1.  0.  0.  0.  1.  1.  0.  0.  0.  0.  0.  1.  0.  0.\n",
      "  1.  0.  0.  1.  0.  0.  1.  0.  0.  0.  0.  0.  0.  0.  0.  0.  0.  0.\n",
      "  0.  0.  0.  0.  0.  1.  0.  0.  0.  0.  1.  1.  0.  0.  0.  0.  1.  0.\n",
      "  0.  0.  0.  0.  0.  0.  0.  0.  0.  0.  0.  0.  1.  0.  1.  0.  0.  0.\n",
      "  0.  0.  0.  0.  0.  0.  0.  0.  0.  0.  0.  0.  0.  0.  0.  0.  0.  1.\n",
      "  0.  0.  0.  0.  0.  0.  0.  0.  1.  0.  1.  0.  0.  0.  0.  0.  0.  0.\n",
      "  0.  0.  0.  0.  0.  0.  0.  0.  0.  0.  0.  0.  0.  0.  0.  0.  0.  0.\n",
      "  0.  0.  0.  0.  1.  0.  0.  0.  0.  0.  0.  0.  0.  0.  0.  0.  0.  0.\n",
      "  0.  0.  0.  0.  0.  0.  0.  0.  0.  0.  0.  0.  0.  1.  1.  0.  0.  0.\n",
      "  0.  0.  0.  0.  0.  0.  0.  0.  0.  1.  0.  0.  0.  0.  0.  0.  0.  0.\n",
      "  0.  0.  0.  0.  0.  0.  0.  0.  0.  0.  1.  1.  0.  0.  0.  0.  0.  0.\n",
      "  0.  0.  0.  0.  0.  0.  0.  0.  0.  0.  0.  0.  1.  0.  0.  0.  0.  0.\n",
      "  0.  0.  0.  0.  0.  0.  0.  0.  0.  0.  0.  0.  0.  0.  0.  0.  0.  0.\n",
      "  0.  0.  0.  0.  0.  0.  0.  0.  0.  0.  0.  0.  0.  0.  0.  0.  0.  0.\n",
      "  0.  0.  0.  1.  0.  0.  0.  1.  1.  0.  0.  0.  0.  0.  0.  0.  0.  0.\n",
      "  0.  0.  0.  0.  1.  0.  0.  0.  0.  0.  0.  1.  0.  0.  0.  0.  0.  0.\n",
      "  0.  0.  0.  0.  0.  0.  0.  0.  0.  0.  0.  0.  0.  0.  0.  0.  0.  0.\n",
      "  0.  0.  0.  0.  0.  0.  0.  0.  0.  0.  0.  0.  0.  0.  0.  1.  0.  0.\n",
      "  0.  0.  0.  0.  0.  0.  0.  0.  1.  0.  0.  0.  0.  0.  0.  0.  0.  0.\n",
      "  0.  1.  0.  0.  0.  0.  0.  0.  1.  0.  0.  0.  1.  0.  0.  0.  0.  0.\n",
      "  0.  0.  0.  0.  0.  0.  0.  0.  0.  0.  0.  0.  0.  0.  0.  0.  0.  0.\n",
      "  0.  0.  0.  0.  0.  0.  0.  0.  0.  0.  0.  1.  0.  0.  0.  0.  0.  0.\n",
      "  0.  0.  0.  0.  0.  0.  0.  0.  1.  0.  0.  0.  0.  0.  0.  0.  0.  0.\n",
      "  0.  0.  0.  0.  0.  0.  1.  0.  0.  0.  0.  0.  0.  0.  0.  0.  0.  0.\n",
      "  0.  0.  0.  0.  0.  0.  0.  0.  0.  0.  0.  0.  0.  0.  0.  0.  0.  0.\n",
      "  0.  0.  0.  0.  0.  0.  0.  0.  0.  0.  0.  0.  0.  0.  0.  0.  0.  0.\n",
      "  0.  0.  0.  0.  0.  0.  0.  0.  0.  0.  0.  0.  0.  0.  0.  0.  0.  0.\n",
      "  0.  0.  0.  0.  0.  0.  0.  1.  0.  0.  0.  0.  0.  0.  1.  0.  0.  0.\n",
      "  0.  0.  0.  0.  0.  0.  0.  0.  0.  0.  0.  0.  0.  0.  0.  0.  0.  0.\n",
      "  0.  0.  0.  0.  0.  0.  0.  0.  0.  0.  0.  0.  0.  0.  0.  0.  0.  0.\n",
      "  0.  0.  0.  0.  1.  0.  0.  0.  0.  0.  0.  0.  0.  0.  0.  0.  0.  0.\n",
      "  0.  0.  0.  0.  0.  0.  0.  0.  0.  0.  0.  0.  0.  0.  0.  0.  0.  0.\n",
      "  0.  0.  0.  0.  0.  0.  0.  0.  0.  0.  0.  0.  0.  0.  0.  0.  0.  0.\n",
      "  0.  0.  0.  1.  0.  0.  0.  0.  0.  0.  0.  0.  0.  0.  0.  0.  0.  0.\n",
      "  0.  0.  0.  0.  0.  0.  0.  0.  0.  0.  0.  0.  0.  0.  0.  0.  0.  0.\n",
      "  0.  0.  0.  0.  0.  0.  0.  0.  0.  0.  0.  0.  0.  0.  0.  0.  0.  0.\n",
      "  0.  0.  0.  0.  0.  0.  0.  0.  0.  0.  0.  0.  0.  0.  0.  0.  0.  0.\n",
      "  0.  0.  0.  0.  0.  0.  0.  0.  0.  0.  0.  0.  0.  0.  0.  0.  0.  0.\n",
      "  0.  0.  0.  0.  0.  0.  0.  0.  0.  0.  0.  0.  0.  0.  0.  0.  0.  0.\n",
      "  0.  0.  0.  0.  0.  0.  0.  0.  0.  0.  1.  0.  0.  0.  0.  0.  0.  0.\n",
      "  0.  0.  0.  0.  0.  0.  0.  0.  0.  0.  0.  0.  0.  0.  0.  0.  0.  0.\n",
      "  0.  0.  0.  0.  0.  0.  0.  0.  0.  0.  0.  0.  0.  0.  0.  0.  0.  0.\n",
      "  0.  0.  0.  0.  0.  0.  0.  0.  0.  0.  0.  0.  0.  0.  0.  0.  0.  0.\n",
      "  0.  0.  0.  0.  0.  0.  0.  0.  0.  0.  0.  0.  0.  0.  0.  0.  0.  0.\n",
      "  0.  0.  0.  0.  0.  0.  0.  0.  0.  0.  0.  0.  0.  0.  0.  0.  0.  0.\n",
      "  0.  0.  0.  0.  0.  0.  0.  0.  0.  0.  0.  0.  0.  0.  0.  0.  0.  0.\n",
      "  0.  0.  0.  0.  0.  0.  0.  0.  0.  0.  0.  0.  0.  0.  0.  0.  0.  0.\n",
      "  0.  1.  0.  0.  0.  0.  0.  0.  0.  0.  0.  0.  0.  0.  0.  0.  0.  0.\n",
      "  0.  0.  0.  0.  0.  0.  0.  0.  0.  0.]\n"
     ]
    }
   ],
   "source": [
    "# One-hot encoding the output into vector mode, each of length 1000\n",
    "tokenizer = Tokenizer(num_words=1000)\n",
    "x_train = tokenizer.sequences_to_matrix(x_train, mode='binary')\n",
    "x_test = tokenizer.sequences_to_matrix(x_test, mode='binary')\n",
    "print(x_train[0])"
   ]
  },
  {
   "cell_type": "markdown",
   "metadata": {},
   "source": [
    "And we'll also one-hot encode the output."
   ]
  },
  {
   "cell_type": "code",
   "execution_count": 5,
   "metadata": {},
   "outputs": [
    {
     "name": "stdout",
     "output_type": "stream",
     "text": [
      "(25000, 2)\n",
      "(25000, 2)\n"
     ]
    }
   ],
   "source": [
    "# One-hot encoding the output\n",
    "num_classes = 2\n",
    "y_train = keras.utils.to_categorical(y_train, num_classes)\n",
    "y_test = keras.utils.to_categorical(y_test, num_classes)\n",
    "print(y_train.shape)\n",
    "print(y_test.shape)"
   ]
  },
  {
   "cell_type": "markdown",
   "metadata": {},
   "source": [
    "## 4. Building the  model architecture\n",
    "Build a model here using sequential. Feel free to experiment with different layers and sizes! Also, experiment adding dropout to reduce overfitting."
   ]
  },
  {
   "cell_type": "code",
   "execution_count": 6,
   "metadata": {},
   "outputs": [
    {
     "name": "stdout",
     "output_type": "stream",
     "text": [
      "_________________________________________________________________\n",
      "Layer (type)                 Output Shape              Param #   \n",
      "=================================================================\n",
      "dense_1 (Dense)              (None, 512)               512512    \n",
      "_________________________________________________________________\n",
      "dropout_1 (Dropout)          (None, 512)               0         \n",
      "_________________________________________________________________\n",
      "dense_2 (Dense)              (None, 2)                 1026      \n",
      "=================================================================\n",
      "Total params: 513,538\n",
      "Trainable params: 513,538\n",
      "Non-trainable params: 0\n",
      "_________________________________________________________________\n"
     ]
    }
   ],
   "source": [
    "# TODO: Build the model architecture\n",
    "model = Sequential()\n",
    "model.add(Dense(512, activation='relu', input_dim=1000))\n",
    "model.add(Dropout(0.5))\n",
    "model.add(Dense(num_classes, activation='softmax'))\n",
    "model.summary()\n",
    "\n",
    "# TODO: Compile the model using a loss function and an optimizer.\n",
    "model.compile(loss = 'mean_squared_error', optimizer='adam', metrics=['accuracy'])"
   ]
  },
  {
   "cell_type": "markdown",
   "metadata": {},
   "source": [
    "## 5. Training the model\n",
    "Run the model here. Experiment with different batch_size, and number of epochs!"
   ]
  },
  {
   "cell_type": "code",
   "execution_count": 7,
   "metadata": {},
   "outputs": [
    {
     "name": "stdout",
     "output_type": "stream",
     "text": [
      "Train on 25000 samples, validate on 25000 samples\n",
      "Epoch 1/50\n",
      "5s - loss: 0.1274 - acc: 0.8178 - val_loss: 0.1027 - val_acc: 0.8581\n",
      "Epoch 2/50\n",
      "4s - loss: 0.0956 - acc: 0.8696 - val_loss: 0.1025 - val_acc: 0.8584\n",
      "Epoch 3/50\n",
      "4s - loss: 0.0822 - acc: 0.8924 - val_loss: 0.0997 - val_acc: 0.8610\n",
      "Epoch 4/50\n",
      "4s - loss: 0.0679 - acc: 0.9152 - val_loss: 0.1008 - val_acc: 0.8600\n",
      "Epoch 5/50\n",
      "4s - loss: 0.0530 - acc: 0.9384 - val_loss: 0.1007 - val_acc: 0.8603\n",
      "Epoch 6/50\n",
      "4s - loss: 0.0392 - acc: 0.9577 - val_loss: 0.1026 - val_acc: 0.8572\n",
      "Epoch 7/50\n",
      "4s - loss: 0.0303 - acc: 0.9697 - val_loss: 0.1047 - val_acc: 0.8572\n",
      "Epoch 8/50\n",
      "4s - loss: 0.0232 - acc: 0.9776 - val_loss: 0.1046 - val_acc: 0.8575\n",
      "Epoch 9/50\n",
      "5s - loss: 0.0190 - acc: 0.9812 - val_loss: 0.1056 - val_acc: 0.8581\n",
      "Epoch 10/50\n",
      "5s - loss: 0.0160 - acc: 0.9848 - val_loss: 0.1066 - val_acc: 0.8575\n",
      "Epoch 11/50\n",
      "4s - loss: 0.0135 - acc: 0.9874 - val_loss: 0.1079 - val_acc: 0.8579\n",
      "Epoch 12/50\n",
      "4s - loss: 0.0120 - acc: 0.9894 - val_loss: 0.1089 - val_acc: 0.8566\n",
      "Epoch 13/50\n",
      "4s - loss: 0.0121 - acc: 0.9879 - val_loss: 0.1100 - val_acc: 0.8560\n",
      "Epoch 14/50\n",
      "4s - loss: 0.0111 - acc: 0.9885 - val_loss: 0.1095 - val_acc: 0.8576\n",
      "Epoch 15/50\n",
      "4s - loss: 0.0102 - acc: 0.9901 - val_loss: 0.1104 - val_acc: 0.8593\n",
      "Epoch 16/50\n",
      "4s - loss: 0.0092 - acc: 0.9911 - val_loss: 0.1118 - val_acc: 0.8572\n",
      "Epoch 17/50\n",
      "4s - loss: 0.0096 - acc: 0.9899 - val_loss: 0.1130 - val_acc: 0.8565\n",
      "Epoch 18/50\n",
      "4s - loss: 0.0096 - acc: 0.9896 - val_loss: 0.1142 - val_acc: 0.8565\n",
      "Epoch 19/50\n",
      "4s - loss: 0.0091 - acc: 0.9907 - val_loss: 0.1140 - val_acc: 0.8566\n",
      "Epoch 20/50\n",
      "4s - loss: 0.0079 - acc: 0.9918 - val_loss: 0.1147 - val_acc: 0.8567\n",
      "Epoch 21/50\n",
      "4s - loss: 0.0082 - acc: 0.9913 - val_loss: 0.1144 - val_acc: 0.8561\n",
      "Epoch 22/50\n",
      "4s - loss: 0.0081 - acc: 0.9916 - val_loss: 0.1159 - val_acc: 0.8556\n",
      "Epoch 23/50\n",
      "4s - loss: 0.0076 - acc: 0.9921 - val_loss: 0.1149 - val_acc: 0.8556\n",
      "Epoch 24/50\n",
      "4s - loss: 0.0081 - acc: 0.9916 - val_loss: 0.1214 - val_acc: 0.8530\n",
      "Epoch 25/50\n",
      "4s - loss: 0.0079 - acc: 0.9915 - val_loss: 0.1173 - val_acc: 0.8544\n",
      "Epoch 26/50\n",
      "5s - loss: 0.0075 - acc: 0.9916 - val_loss: 0.1180 - val_acc: 0.8538\n",
      "Epoch 27/50\n",
      "4s - loss: 0.0082 - acc: 0.9908 - val_loss: 0.1164 - val_acc: 0.8564\n",
      "Epoch 28/50\n",
      "4s - loss: 0.0065 - acc: 0.9932 - val_loss: 0.1171 - val_acc: 0.8560\n",
      "Epoch 29/50\n",
      "5s - loss: 0.0069 - acc: 0.9925 - val_loss: 0.1175 - val_acc: 0.8562\n",
      "Epoch 30/50\n",
      "7s - loss: 0.0063 - acc: 0.9929 - val_loss: 0.1178 - val_acc: 0.8572\n",
      "Epoch 31/50\n",
      "5s - loss: 0.0065 - acc: 0.9928 - val_loss: 0.1186 - val_acc: 0.8558\n",
      "Epoch 32/50\n",
      "5s - loss: 0.0068 - acc: 0.9924 - val_loss: 0.1182 - val_acc: 0.8564\n",
      "Epoch 33/50\n",
      "5s - loss: 0.0064 - acc: 0.9930 - val_loss: 0.1198 - val_acc: 0.8558\n",
      "Epoch 34/50\n",
      "5s - loss: 0.0072 - acc: 0.9916 - val_loss: 0.1219 - val_acc: 0.8544\n",
      "Epoch 35/50\n",
      "5s - loss: 0.0072 - acc: 0.9916 - val_loss: 0.1201 - val_acc: 0.8546\n",
      "Epoch 36/50\n",
      "6s - loss: 0.0064 - acc: 0.9928 - val_loss: 0.1207 - val_acc: 0.8533\n",
      "Epoch 37/50\n",
      "7s - loss: 0.0061 - acc: 0.9932 - val_loss: 0.1223 - val_acc: 0.8523\n",
      "Epoch 38/50\n",
      "7s - loss: 0.0057 - acc: 0.9942 - val_loss: 0.1214 - val_acc: 0.8539\n",
      "Epoch 39/50\n",
      "6s - loss: 0.0063 - acc: 0.9928 - val_loss: 0.1248 - val_acc: 0.8516\n",
      "Epoch 40/50\n",
      "6s - loss: 0.0059 - acc: 0.9934 - val_loss: 0.1221 - val_acc: 0.8544\n",
      "Epoch 41/50\n",
      "6s - loss: 0.0063 - acc: 0.9930 - val_loss: 0.1233 - val_acc: 0.8562\n",
      "Epoch 42/50\n",
      "4s - loss: 0.0056 - acc: 0.9939 - val_loss: 0.1288 - val_acc: 0.8486\n",
      "Epoch 43/50\n",
      "4s - loss: 0.0061 - acc: 0.9933 - val_loss: 0.1224 - val_acc: 0.8547\n",
      "Epoch 44/50\n",
      "5s - loss: 0.0061 - acc: 0.9931 - val_loss: 0.1223 - val_acc: 0.8550\n",
      "Epoch 45/50\n",
      "4s - loss: 0.0056 - acc: 0.9938 - val_loss: 0.1227 - val_acc: 0.8560\n",
      "Epoch 46/50\n",
      "4s - loss: 0.0051 - acc: 0.9946 - val_loss: 0.1237 - val_acc: 0.8534\n",
      "Epoch 47/50\n",
      "4s - loss: 0.0065 - acc: 0.9922 - val_loss: 0.1225 - val_acc: 0.8563\n",
      "Epoch 48/50\n",
      "4s - loss: 0.0059 - acc: 0.9932 - val_loss: 0.1211 - val_acc: 0.8552\n",
      "Epoch 49/50\n",
      "4s - loss: 0.0060 - acc: 0.9934 - val_loss: 0.1222 - val_acc: 0.8566\n",
      "Epoch 50/50\n",
      "4s - loss: 0.0061 - acc: 0.9934 - val_loss: 0.1223 - val_acc: 0.8568\n"
     ]
    }
   ],
   "source": [
    "# TODO: Run the model. Feel free to experiment with different batch sizes and number of epochs.\n",
    "hist = model.fit(x_train, y_train,\n",
    "          batch_size=100,\n",
    "          epochs=50,\n",
    "          validation_data=(x_test, y_test), \n",
    "          verbose=2)"
   ]
  },
  {
   "cell_type": "markdown",
   "metadata": {},
   "source": [
    "## 6. Evaluating the model\n",
    "This will give you the accuracy of the model, as evaluated on the testing set. Can you get something over 85%?"
   ]
  },
  {
   "cell_type": "code",
   "execution_count": 8,
   "metadata": {},
   "outputs": [
    {
     "name": "stdout",
     "output_type": "stream",
     "text": [
      "('Accuracy: ', 0.85680000000000001)\n"
     ]
    }
   ],
   "source": [
    "score = model.evaluate(x_test, y_test, verbose=0)\n",
    "print(\"Accuracy: \", score[1])"
   ]
  }
 ],
 "metadata": {
  "kernelspec": {
   "display_name": "Python 2",
   "language": "python",
   "name": "python2"
  },
  "language_info": {
   "codemirror_mode": {
    "name": "ipython",
    "version": 2
   },
   "file_extension": ".py",
   "mimetype": "text/x-python",
   "name": "python",
   "nbconvert_exporter": "python",
   "pygments_lexer": "ipython2",
   "version": "2.7.13"
  }
 },
 "nbformat": 4,
 "nbformat_minor": 2
}
